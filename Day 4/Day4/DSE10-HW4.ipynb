{
 "cells": [
  {
   "cell_type": "markdown",
   "id": "parallel-field",
   "metadata": {},
   "source": [
    "# DSE 10 Homework 4 - Due 02/05/2021 9:00am\n",
    "\n",
    "## Instructions\n",
    "* Please upload all work to gradescope by the due date - **late work will not be graded**\n",
    "    * You should submit a single ipynb file containing all your code and output (plots, numeric values, etc...)\n",
    "    * Important: **name your ipynb file according to the following convention**: `<lastname>_<firstname>.ipynb` - example: (`thomas_anthony.ipynb`)\n",
    "    * Please organize your notebook into sections by problem\n",
    "    * Use print statements to clearly indicate which question you are ansering\n",
    "        * Good: `print(\"Problem 4 (e): {}\".format(np.pi))`\n",
    "        * Good: `print(\"The value of pi is: {}\".format(np.pi))`\n",
    "        * Bad:  `print(np.pi)`\n",
    "        * Bad:  `np.pi`\n",
    "    * Use relative paths to load data:\n",
    "        * Good: `loadmnist(\"train-images-idx3-ubyte\", \"train-labels-idx1-ubyte\")`\n",
    "        * Bad: `loadmnist(\"/home/anthony/class/DSE10/train-images-idx3-ubyte\", ...)`\n",
    "* Collaboration is encouraged, but all submissions should be in your own writing/code and written with your own understanding\n",
    "* Your code must run and be able to reproduce your answers\n",
    "* Unless stated otherwise in the assignemnt, your code should use only basic low-level NumPy/SciPy linear algebra and satistics commands (e.g. do not use built in estimation tools or anything from SciKitLearn). When in doubt, ask for clarification on Canvas."
   ]
  },
  {
   "cell_type": "code",
   "execution_count": null,
   "id": "sonic-revelation",
   "metadata": {},
   "outputs": [],
   "source": [
    "import numpy as np\n",
    "import matplotlib.pyplot as plt\n",
    "\n",
    "from scipy import stats\n",
    "\n",
    "# Add any other import statements or general purpose functions you will need here"
   ]
  },
  {
   "cell_type": "markdown",
   "id": "third-nevada",
   "metadata": {},
   "source": [
    "# Worksheet 9 Problem 3"
   ]
  },
  {
   "cell_type": "code",
   "execution_count": null,
   "id": "sublime-imaging",
   "metadata": {},
   "outputs": [],
   "source": [
    "# Your code goes here"
   ]
  },
  {
   "cell_type": "markdown",
   "id": "competitive-louisiana",
   "metadata": {},
   "source": [
    "# Worksheet 9 Problem 4"
   ]
  },
  {
   "cell_type": "code",
   "execution_count": null,
   "id": "increasing-award",
   "metadata": {},
   "outputs": [],
   "source": [
    "# Your code goes here"
   ]
  },
  {
   "cell_type": "markdown",
   "id": "suitable-money",
   "metadata": {},
   "source": [
    "# Worksheet 10 Problem 2"
   ]
  },
  {
   "cell_type": "code",
   "execution_count": null,
   "id": "automotive-mixture",
   "metadata": {},
   "outputs": [],
   "source": [
    "# Your code goes here"
   ]
  }
 ],
 "metadata": {
  "kernelspec": {
   "display_name": "Python 3",
   "language": "python",
   "name": "python3"
  },
  "language_info": {
   "codemirror_mode": {
    "name": "ipython",
    "version": 3
   },
   "file_extension": ".py",
   "mimetype": "text/x-python",
   "name": "python",
   "nbconvert_exporter": "python",
   "pygments_lexer": "ipython3",
   "version": "3.7.0"
  }
 },
 "nbformat": 4,
 "nbformat_minor": 5
}
