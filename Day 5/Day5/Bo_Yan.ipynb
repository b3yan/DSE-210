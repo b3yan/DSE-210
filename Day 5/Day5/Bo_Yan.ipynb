{
 "cells": [
  {
   "cell_type": "markdown",
   "id": "urban-exposure",
   "metadata": {},
   "source": [
    "# DSE 10 Homework 4 - Due 02/05/2021 9:00am\n",
    "\n",
    "## Instructions\n",
    "* Please upload all work to gradescope by the due date - **late work will not be graded**\n",
    "    * You should submit a single ipynb file containing all your code and output (plots, numeric values, etc...)\n",
    "    * Important: **name your ipynb file according to the following convention**: `<lastname>_<firstname>.ipynb` - example: (`thomas_anthony.ipynb`)\n",
    "    * Please organize your notebook into sections by problem\n",
    "    * Use print statements to clearly indicate which question you are ansering\n",
    "        * Good: `print(\"Problem 4 (e): {}\".format(np.pi))`\n",
    "        * Good: `print(\"The value of pi is: {}\".format(np.pi))`\n",
    "        * Bad:  `print(np.pi)`\n",
    "        * Bad:  `np.pi`\n",
    "    * Use relative paths to load data:\n",
    "        * Good: `loadmnist(\"train-images-idx3-ubyte\", \"train-labels-idx1-ubyte\")`\n",
    "        * Bad: `loadmnist(\"/home/anthony/class/DSE10/train-images-idx3-ubyte\", ...)`\n",
    "* Collaboration is encouraged, but all submissions should be in your own writing/code and written with your own understanding\n",
    "* Your code must run and be able to reproduce your answers\n",
    "* Unless stated otherwise in the assignemnt, your code should use only basic low-level NumPy/SciPy linear algebra and satistics commands (e.g. do not use built in estimation tools or anything from SciKitLearn). When in doubt, ask for clarification on Canvas."
   ]
  },
  {
   "cell_type": "code",
   "execution_count": 1,
   "id": "alpha-jurisdiction",
   "metadata": {},
   "outputs": [],
   "source": [
    "%matplotlib inline\n",
    "import matplotlib.pyplot as plt\n",
    "import time\n",
    "import gzip\n",
    "import sys\n",
    "import os\n",
    "import copy\n",
    "import numpy as np\n",
    "import pandas as pd\n",
    "import pickle\n",
    "import string\n",
    "import operator\n",
    "import bz2\n",
    "import random\n",
    "from scipy import stats\n",
    "from scipy.cluster.hierarchy import dendrogram, linkage\n",
    "from sklearn.cluster import KMeans\n",
    "from sklearn.neighbors import BallTree\n",
    "from sklearn import metrics\n",
    "from sklearn.preprocessing import scale\n",
    "from pylab import rcParams\n",
    "from struct import unpack\n",
    "from scipy.stats import multivariate_normal\n",
    "\n",
    "if sys.version_info[0] == 2:\n",
    "    from urllib import urlretrieve\n",
    "else:\n",
    "    from urllib.request import urlretrieve\n",
    "\n",
    "if not sys.warnoptions:\n",
    "    import warnings\n",
    "    warnings.simplefilter(\"ignore\")"
   ]
  },
  {
   "cell_type": "markdown",
   "id": "focal-orange",
   "metadata": {},
   "source": [
    "# Worksheet 9 Problem 3"
   ]
  },
  {
   "cell_type": "markdown",
   "id": "metropolitan-parks",
   "metadata": {},
   "source": [
    "#### Text classification using multinomial Naive Bayes."
   ]
  },
  {
   "cell_type": "markdown",
   "id": "included-swimming",
   "metadata": {},
   "source": [
    "#### (a) For this problem, you’ll be using the 20 Newsgroups data set. There are several versions of it on the web. You should download “20news-bydate.tar.gz” from\n",
    "                               http://qwone.com/~jason/20Newsgroups/\n",
    "#### Unpack it and look through the directories at some of the files. Overall, there are roughly 19,000 documents, each from one of 20 newsgroups. The label of a document is the identity of its newsgroup. The documents are divided into a training set and a test set."
   ]
  },
  {
   "cell_type": "code",
   "execution_count": 2,
   "id": "pressing-phoenix",
   "metadata": {},
   "outputs": [],
   "source": [
    "def download(filename, source = 'http://qwone.com/~jason/20Newsgroups/20news-bydate.tar.gz'):\n",
    "    print(\"Downloading %s\" % filename)\n",
    "    urlretrieve(source + filename, filename)\n",
    "    \n",
    "def load_data(filename):\n",
    "    if not os.path.exists(filename):\n",
    "        download(filename)\n",
    "    with gzip.open(filename, 'rb') as f:\n",
    "        data = np.frombuffer(f.read(), np.uint8, offset = 16)\n",
    "    return data / np.float32(256)"
   ]
  },
  {
   "cell_type": "code",
   "execution_count": 3,
   "id": "working-wellington",
   "metadata": {},
   "outputs": [],
   "source": [
    "newsgroup_data = load_data('20news-bydate.tar.gz')"
   ]
  },
  {
   "cell_type": "markdown",
   "id": "collectible-heritage",
   "metadata": {},
   "source": [
    "#### (b) The same website has a processed version of the data, “20news-bydate-matlab.tgz”, that is par- ticularly convenient to use. Download this and also the file “vocabulary.txt”. Look at the first training document in the processed set and the corresponding original text document to under- stand the relation between the two."
   ]
  },
  {
   "cell_type": "code",
   "execution_count": 4,
   "id": "identified-tennis",
   "metadata": {},
   "outputs": [],
   "source": [
    "train_data = pd.read_csv('20news-bydate 2/matlab/train.data', header = None, sep =' ')\n",
    "train_label = pd.read_csv('20news-bydate 2/matlab/train.label', header = None, sep = ' ')\n",
    "train_map = pd.read_csv('20news-bydate 2/matlab/train.map', header = None, sep = ' ')\n",
    "test_data = pd.read_csv('20news-bydate 2/matlab/test.data', header = None, sep =' ')\n",
    "test_label = pd.read_csv('20news-bydate 2/matlab/test.label', header = None, sep =' ')\n",
    "test_map = pd.read_csv('20news-bydate 2/matlab/test.map', header = None, sep = ' ')\n",
    "vocabulary_data = pd.read_csv('vocabulary.txt', names = ['word'], header = None, sep =' ')"
   ]
  },
  {
   "cell_type": "markdown",
   "id": "valuable-divide",
   "metadata": {},
   "source": [
    "#### (c) The words in the documents constitute an overall vocabulary V of size 61188. Build a multinomial Naive Bayes model using the training data. For each of the 20 classes j = 1, 2, . . . , 20, you must have the following:\n",
    "\n",
    "    • pij, the fraction of documents that belong to that class; and\n",
    "    • Pj, a probability distribution over V that models the documents of that class.\n",
    "    \n",
    "#### In order to fit Pj, imagine that all the documents of class j are strung together. For each word w 2 V , let Pjw be the fraction of this concatenated document occupied by w. Well, almost: you will need to do smoothing (just add one to the count of how often w occurs)."
   ]
  },
  {
   "cell_type": "code",
   "execution_count": 5,
   "id": "parliamentary-cigarette",
   "metadata": {},
   "outputs": [],
   "source": [
    "x_train_data, y_train_label, x_test_data, y_test_label = train_data, train_label, test_data, test_label"
   ]
  },
  {
   "cell_type": "code",
   "execution_count": 6,
   "id": "sacred-synthetic",
   "metadata": {},
   "outputs": [],
   "source": [
    "x_train_data.columns = ['docIdx', 'wordIdx', 'count']\n",
    "y_train_label['docIdx'] = range(1, len(y_train_label) + 1)\n",
    "y_train_label.columns = ['class', 'docIdx']\n",
    "x_train_data = x_train_data.merge(y_train_label, how = 'left', on = 'docIdx') "
   ]
  },
  {
   "cell_type": "code",
   "execution_count": 7,
   "id": "urban-execution",
   "metadata": {},
   "outputs": [],
   "source": [
    "x_test_data.columns = ['docIdx', 'wordIdx', 'count']\n",
    "y_test_label['docIdx'] = range(1, len(y_test_label) + 1)\n",
    "y_test_label.columns = ['class', 'docIdx']\n",
    "x_test_data = x_test_data.merge(y_test_label, how = 'left',on = 'docIdx') "
   ]
  },
  {
   "cell_type": "code",
   "execution_count": 8,
   "id": "subjective-testament",
   "metadata": {},
   "outputs": [
    {
     "name": "stdout",
     "output_type": "stream",
     "text": [
      "Fraction of documents in each class:\n",
      " [0.04259473 0.05155737 0.05075872 0.0520898  0.05102494 0.0525335\n",
      " 0.05164611 0.0525335  0.05288846 0.05271098 0.05306593 0.05271098\n",
      " 0.05244476 0.05271098 0.05262224 0.05315467 0.04836277 0.05004881\n",
      " 0.0411749  0.03336587]\n"
     ]
    }
   ],
   "source": [
    "# calculate pi\n",
    "pi = np.zeros(20)\n",
    "for j in range(20):\n",
    "    pi[j] = np.sum(y_train_label.iloc[:,0] == j + 1)/len(y_train_label)\n",
    "    \n",
    "print('Fraction of documents in each class:\\n', pi)"
   ]
  },
  {
   "cell_type": "code",
   "execution_count": 9,
   "id": "confused-school",
   "metadata": {},
   "outputs": [
    {
     "name": "stdout",
     "output_type": "stream",
     "text": [
      "Probability Distribution:\n",
      " [[6.66666667e-05 3.04761905e-04 1.31428571e-03 ... 4.76190476e-06\n",
      "  4.76190476e-06 4.76190476e-06]\n",
      " [3.55589754e-04 3.49760414e-04 5.82934024e-06 ... 5.82934024e-06\n",
      "  5.82934024e-06 5.82934024e-06]\n",
      " [7.89707479e-05 4.60662696e-04 6.58089566e-06 ... 6.58089566e-06\n",
      "  6.58089566e-06 6.58089566e-06]\n",
      " ...\n",
      " [3.48108977e-05 4.90517195e-04 3.16462706e-06 ... 3.16462706e-06\n",
      "  3.16462706e-06 3.16462706e-06]\n",
      " [4.03854386e-06 1.61541755e-04 4.03854386e-06 ... 4.03854386e-06\n",
      "  4.03854386e-06 4.03854386e-06]\n",
      " [5.54680393e-06 2.55152981e-04 5.54680393e-05 ... 5.54680393e-06\n",
      "  5.54680393e-06 5.54680393e-06]]\n"
     ]
    }
   ],
   "source": [
    "# calculate p\n",
    "total = vocabulary_data.shape[0]\n",
    "p = np.zeros((20,total ))\n",
    "\n",
    "for j in range(20):\n",
    "    tmp = x_train_data[x_train_data['class'] == j + 1]\n",
    "    p[j,:] = 1   \n",
    "    for i in range(tmp.shape[0]):  \n",
    "        wdidx = tmp['wordIdx'].iloc[i]\n",
    "        count = tmp['count'].iloc[i]\n",
    "        p[j, wdidx - 1] += count\n",
    "    p[j,:] = p[j,:]/np.sum(p[j,:])\n",
    "    \n",
    "print('Probability Distribution:\\n', p)"
   ]
  },
  {
   "cell_type": "markdown",
   "id": "correct-invite",
   "metadata": {},
   "source": [
    "#### (d) Write a routine that uses this naive Bayes model to classify a new document. To avoid underflow, work with logs rather than multiplying together probabilities."
   ]
  },
  {
   "cell_type": "code",
   "execution_count": 10,
   "id": "alone-wrong",
   "metadata": {},
   "outputs": [],
   "source": [
    "def decision(x_test_data, pi, p):\n",
    "    wdidx = x_test_data['wordIdx']\n",
    "    prob = [np.log(pi[j]) + np.sum(x_test_data['count'] * np.log(p[j,wdidx - 1 ])) for j in range(20)]\n",
    "    pred = np.argmax(prob)\n",
    "        \n",
    "    return pred , prob"
   ]
  },
  {
   "cell_type": "markdown",
   "id": "accurate-comedy",
   "metadata": {},
   "source": [
    "#### (e) Evaluate the performance of your model on the test data. What error rate do you achieve?"
   ]
  },
  {
   "cell_type": "code",
   "execution_count": 11,
   "id": "funny-yemen",
   "metadata": {},
   "outputs": [
    {
     "name": "stdout",
     "output_type": "stream",
     "text": [
      "Error rate of naive Bayes model is:\n",
      "21.892071952031976%\n"
     ]
    }
   ],
   "source": [
    "result = []\n",
    "for i in range(y_test_label.shape[0]):\n",
    "    x_test = x_test_data.loc[x_test_data['docIdx'] == i + 1,:]\n",
    "    pred, prob = decision(x_test, pi, p)\n",
    "    result.append(pred + 1 != y_test_label['class'].iloc[i])\n",
    "    \n",
    "# calculate the error rate of naive Bayes model\n",
    "error_rate = np.mean(result) * 100\n",
    "print('Error rate of naive Bayes model is:\\n{}%'.format(error_rate))"
   ]
  },
  {
   "cell_type": "markdown",
   "id": "stretch-significance",
   "metadata": {},
   "source": [
    "Conclusion: We have evaluated naive Bayes models on the test data, and it turns out that this model performs a good accurate, whose error rate is 20.3%."
   ]
  },
  {
   "cell_type": "markdown",
   "id": "rocky-price",
   "metadata": {},
   "source": [
    "# Worksheet 9 Problem 4"
   ]
  },
  {
   "cell_type": "markdown",
   "id": "federal-upgrade",
   "metadata": {},
   "source": [
    "4. Handwritten digit recognition using a Gaussian generative model. In class, we mentioned the MNIST data set of handwritten digits. You can obtain it from:\n",
    "\n",
    "    http://yann.lecun.com/exdb/mnist/index.html\n",
    "    \n",
    " In this problem, you will build a classifier for this data, by modeling each class as a multivariate (784-dimensional) Gaussian."
   ]
  },
  {
   "cell_type": "markdown",
   "id": "organic-wisdom",
   "metadata": {},
   "source": [
    "#### (a) Upon downloading the data, you should have two training files (one with images, one with labels) and two test files. Unzip them. In order to load the data into Python you will find the following code helpful:\n",
    "\n",
    "    http://cseweb.ucsd.edu/~dasgupta/dse210/loader.py\n",
    "    \n",
    "#### For instance, to load in the training data, you can use:\n",
    "\n",
    "    x,y = loadmnist(’train-images-idx3-ubyte’, ’train-labels-idx1-ubyte’)\n",
    "    \n",
    "#### This will set x to a 60000 x 784 array where each row corresponds to an image, and y to a length-60000 array where each entry is a label (0-9). There is also a routine to display images: use displaychar(x[0]) to show the first data point, for instance."
   ]
  },
  {
   "cell_type": "code",
   "execution_count": 12,
   "id": "atmospheric-familiar",
   "metadata": {},
   "outputs": [],
   "source": [
    "def download(filename, source = 'http://yann.lecun.com/exdb/mnist/index.html'):\n",
    "    print(\"Downloading %s\" % filename)\n",
    "    urlretrieve(source + filename, filename)\n",
    "    \n",
    "def load_mnist_images(filename):\n",
    "    if not os.path.exists(filename):\n",
    "        download(filename)\n",
    "    # Read the inputs in Yann LeCun's binary format.\n",
    "    with gzip.open(filename, 'rb') as f:\n",
    "        data = np.frombuffer(f.read(), np.uint8, offset = 16)\n",
    "    data = data.reshape(-1,784)\n",
    "    return data / np.float32(256)\n",
    "\n",
    "def load_mnist_labels(filename):\n",
    "    if not os.path.exists(filename):\n",
    "        download(filename)\n",
    "    with gzip.open(filename, 'rb') as f:\n",
    "        data = np.frombuffer(f.read(), np.uint8, offset = 8)\n",
    "    return data\n",
    "\n",
    "def displaychar(image):\n",
    "    plt.imshow(np.reshape(image, (28,28)), cmap=plt.cm.gray)\n",
    "    plt.axis('off')\n",
    "    plt.show()"
   ]
  },
  {
   "cell_type": "code",
   "execution_count": 13,
   "id": "aerial-complaint",
   "metadata": {},
   "outputs": [
    {
     "name": "stdout",
     "output_type": "stream",
     "text": [
      "Shape of the train data:\n",
      " (60000, 784)\n",
      "\n",
      "Shape of the train labels:\n",
      " (60000,)\n"
     ]
    }
   ],
   "source": [
    "# Load the training data set\n",
    "train_data = load_mnist_images('train-images-idx3-ubyte.gz')\n",
    "train_labels = load_mnist_labels('train-labels-idx1-ubyte.gz')\n",
    "\n",
    "print('Shape of the train data:\\n', train_data.shape)\n",
    "print('\\nShape of the train labels:\\n', train_labels.shape)"
   ]
  },
  {
   "cell_type": "code",
   "execution_count": 14,
   "id": "trained-paint",
   "metadata": {},
   "outputs": [
    {
     "data": {
      "image/png": "[encoded data removed]",
      "text/plain": [
       "<Figure size 432x288 with 1 Axes>"
      ]
     },
     "metadata": {
      "needs_background": "light"
     },
     "output_type": "display_data"
    }
   ],
   "source": [
    "# Display the first data point\n",
    "displaychar(train_data[0])"
   ]
  },
  {
   "cell_type": "markdown",
   "id": "unlike-burlington",
   "metadata": {},
   "source": [
    "#### (b) Split the training set into two pieces – a training set of size 50000, and a separate validation set of size 10000. Also load in the test data."
   ]
  },
  {
   "cell_type": "code",
   "execution_count": 15,
   "id": "short-claim",
   "metadata": {},
   "outputs": [
    {
     "name": "stdout",
     "output_type": "stream",
     "text": [
      "Shape of x_train_data:\n",
      " (50000, 784)\n",
      "\n",
      "Shape of y_train_data:\n",
      " (50000,)\n"
     ]
    }
   ],
   "source": [
    "x, y = train_data, train_labels\n",
    "\n",
    "# randomly select 50000 data from data set as training data set.\n",
    "random.seed(10)\n",
    "sel = random.sample(range (0, x.shape[0]), 50000 )\n",
    "x_train_data, y_train_data = train_data[sel,], train_labels[sel,]\n",
    "\n",
    "print('Shape of x_train_data:\\n', x_train_data.shape)\n",
    "print('\\nShape of y_train_data:\\n', y_train_data.shape)"
   ]
  },
  {
   "cell_type": "code",
   "execution_count": 16,
   "id": "broken-executive",
   "metadata": {},
   "outputs": [
    {
     "name": "stdout",
     "output_type": "stream",
     "text": [
      "Shape of x_validation:\n",
      " (10000, 784)\n",
      "\n",
      "Shape of y_validation:\n",
      " (10000,)\n"
     ]
    }
   ],
   "source": [
    "# get the remaining data as validation data set.\n",
    "remain = np.setdiff1d(range(0, x.shape[0]), sel)\n",
    "x_validation, y_validation = train_data[remain,], train_labels[remain,]\n",
    "\n",
    "print('Shape of x_validation:\\n', x_validation.shape)\n",
    "print('\\nShape of y_validation:\\n', y_validation.shape)"
   ]
  },
  {
   "cell_type": "code",
   "execution_count": 17,
   "id": "decreased-harmony",
   "metadata": {},
   "outputs": [
    {
     "name": "stdout",
     "output_type": "stream",
     "text": [
      "Shape of the test data:\n",
      " (10000, 784)\n",
      "\n",
      "Shape of the test labels:\n",
      " (10000,)\n"
     ]
    }
   ],
   "source": [
    "# Load the testing data set\n",
    "test_data = load_mnist_images('t10k-images-idx3-ubyte.gz')\n",
    "test_labels = load_mnist_labels('t10k-labels-idx1-ubyte.gz')\n",
    "\n",
    "print('Shape of the test data:\\n', test_data.shape)\n",
    "print('\\nShape of the test labels:\\n', test_labels.shape)"
   ]
  },
  {
   "cell_type": "markdown",
   "id": "grave-frank",
   "metadata": {},
   "source": [
    "#### (c) Now fit a Gaussian generative model to the training data of 50000 points.\n",
    "\n",
    "• Determine the class probabilities.\n",
    "\n",
    "• Fit a Gaussian to each digit, by finding the mean and the covariance of the corresponding data points."
   ]
  },
  {
   "cell_type": "code",
   "execution_count": 18,
   "id": "demographic-dictionary",
   "metadata": {},
   "outputs": [],
   "source": [
    "# create a multivariabte Gaussian model\n",
    "\n",
    "def MultivariateGaussian(x, y):\n",
    "    #labels 1,2,...,k\n",
    "    k = 10  \n",
    "    \n",
    "    #number of features\n",
    "    d = (x.shape)[1]  \n",
    "    \n",
    "    mu = np.zeros((k,d))\n",
    "    sigma = np.zeros((k,d,d))\n",
    "    pi = np.zeros(k)\n",
    "    \n",
    "    for label in range(10):\n",
    "        indices = np.where(y == label)\n",
    "        indices = indices[0]\n",
    "        mu[label] = np.mean(x[indices,:], axis=0)\n",
    "        sigma[label] = np.cov(x[indices,:], rowvar=0, bias=1)\n",
    "        pi[label] = float(len(indices))/float(len(y))\n",
    "    return mu, sigma, pi"
   ]
  },
  {
   "cell_type": "code",
   "execution_count": 19,
   "id": "binding-error",
   "metadata": {},
   "outputs": [],
   "source": [
    "# get the mu, sigma, and pi\n",
    "mu, sigma, pi = MultivariateGaussian(x_train_data, y_train_data)"
   ]
  },
  {
   "cell_type": "code",
   "execution_count": 20,
   "id": "sorted-yugoslavia",
   "metadata": {},
   "outputs": [
    {
     "name": "stdout",
     "output_type": "stream",
     "text": [
      "Class probabilities:\n",
      " [0.0989  0.1129  0.09792 0.10202 0.09642 0.091   0.09882 0.10514 0.0978\n",
      " 0.09908]\n"
     ]
    }
   ],
   "source": [
    "print('Class probabilities:\\n', pi)"
   ]
  },
  {
   "cell_type": "code",
   "execution_count": 21,
   "id": "still-consciousness",
   "metadata": {},
   "outputs": [
    {
     "name": "stdout",
     "output_type": "stream",
     "text": [
      "Mean of the corresponding data points:\n",
      "  [[0. 0. 0. ... 0. 0. 0.]\n",
      " [0. 0. 0. ... 0. 0. 0.]\n",
      " [0. 0. 0. ... 0. 0. 0.]\n",
      " ...\n",
      " [0. 0. 0. ... 0. 0. 0.]\n",
      " [0. 0. 0. ... 0. 0. 0.]\n",
      " [0. 0. 0. ... 0. 0. 0.]]\n"
     ]
    }
   ],
   "source": [
    "print('Mean of the corresponding data points:\\n ', mu)"
   ]
  },
  {
   "cell_type": "code",
   "execution_count": 22,
   "id": "reasonable-recall",
   "metadata": {},
   "outputs": [
    {
     "name": "stdout",
     "output_type": "stream",
     "text": [
      "Covariance of the corresponding data points:\n",
      "  [[[0. 0. 0. ... 0. 0. 0.]\n",
      "  [0. 0. 0. ... 0. 0. 0.]\n",
      "  [0. 0. 0. ... 0. 0. 0.]\n",
      "  ...\n",
      "  [0. 0. 0. ... 0. 0. 0.]\n",
      "  [0. 0. 0. ... 0. 0. 0.]\n",
      "  [0. 0. 0. ... 0. 0. 0.]]\n",
      "\n",
      " [[0. 0. 0. ... 0. 0. 0.]\n",
      "  [0. 0. 0. ... 0. 0. 0.]\n",
      "  [0. 0. 0. ... 0. 0. 0.]\n",
      "  ...\n",
      "  [0. 0. 0. ... 0. 0. 0.]\n",
      "  [0. 0. 0. ... 0. 0. 0.]\n",
      "  [0. 0. 0. ... 0. 0. 0.]]\n",
      "\n",
      " [[0. 0. 0. ... 0. 0. 0.]\n",
      "  [0. 0. 0. ... 0. 0. 0.]\n",
      "  [0. 0. 0. ... 0. 0. 0.]\n",
      "  ...\n",
      "  [0. 0. 0. ... 0. 0. 0.]\n",
      "  [0. 0. 0. ... 0. 0. 0.]\n",
      "  [0. 0. 0. ... 0. 0. 0.]]\n",
      "\n",
      " ...\n",
      "\n",
      " [[0. 0. 0. ... 0. 0. 0.]\n",
      "  [0. 0. 0. ... 0. 0. 0.]\n",
      "  [0. 0. 0. ... 0. 0. 0.]\n",
      "  ...\n",
      "  [0. 0. 0. ... 0. 0. 0.]\n",
      "  [0. 0. 0. ... 0. 0. 0.]\n",
      "  [0. 0. 0. ... 0. 0. 0.]]\n",
      "\n",
      " [[0. 0. 0. ... 0. 0. 0.]\n",
      "  [0. 0. 0. ... 0. 0. 0.]\n",
      "  [0. 0. 0. ... 0. 0. 0.]\n",
      "  ...\n",
      "  [0. 0. 0. ... 0. 0. 0.]\n",
      "  [0. 0. 0. ... 0. 0. 0.]\n",
      "  [0. 0. 0. ... 0. 0. 0.]]\n",
      "\n",
      " [[0. 0. 0. ... 0. 0. 0.]\n",
      "  [0. 0. 0. ... 0. 0. 0.]\n",
      "  [0. 0. 0. ... 0. 0. 0.]\n",
      "  ...\n",
      "  [0. 0. 0. ... 0. 0. 0.]\n",
      "  [0. 0. 0. ... 0. 0. 0.]\n",
      "  [0. 0. 0. ... 0. 0. 0.]]]\n"
     ]
    }
   ],
   "source": [
    "print('Covariance of the corresponding data points:\\n ', sigma)"
   ]
  },
  {
   "cell_type": "markdown",
   "id": "greater-decade",
   "metadata": {},
   "source": [
    "#### (d) One last step is needed: it is important to smooth the covariance matrices, and the usual way to do this is to add in cI, where c is some constant and I is the identity matrix. What value of c is right? Use the validation set to help you choose. That is, choose the value of c for which the resulting classifier makes the fewest mistakes on the validation set. What value of c did you get?"
   ]
  },
  {
   "cell_type": "code",
   "execution_count": 23,
   "id": "enhanced-brick",
   "metadata": {},
   "outputs": [],
   "source": [
    "# classify funtion using Bayes' rule\n",
    "\n",
    "def decision(x, pi, mu, sigma): \n",
    "    prob = np.zeros((10, x.shape[0]))\n",
    "    \n",
    "    for i in range (0,10):\n",
    "        prob[i,:] = pi[i]* multivariate_normal.pdf(x, mean = mu[i,:], cov = sigma[i,:,:])                                             \n",
    "        #if the sigma matrix cannot be inversed, we need to add a np.eye() to avoid singular matrix error.\n",
    "        #since we will smooth in step (d), so I didn't use np.eye() here.\n",
    "        #prob[i,:] = pi[i]* multivariate_normal.pdf(x, mean = mu[i,:], cov = sigma[i,:,:] + np.eye(sigma.shape[1],sigma.shape[2]))\n",
    "\n",
    "    pred = np.argmax(prob, axis = 0)\n",
    "\n",
    "    return pred, prob"
   ]
  },
  {
   "cell_type": "code",
   "execution_count": 24,
   "id": "million-prairie",
   "metadata": {},
   "outputs": [
    {
     "data": {
      "text/plain": [
       "(array([0, 9, 4, 0, 9]),\n",
       " array([[3.52395032e+36, 9.94963706e+02, 4.04319827e-42, 1.73069617e+31,\n",
       "         2.60846830e+03],\n",
       "        [2.76205313e-59, 3.89010386e+23, 1.37779283e-87, 1.71922354e-70,\n",
       "         5.36199288e+13],\n",
       "        [1.67822220e+09, 2.20521407e+12, 3.34169997e-05, 1.33258778e+04,\n",
       "         6.56761242e+10],\n",
       "        [5.52541293e+03, 1.30537050e+18, 3.96725820e-08, 6.44940176e+04,\n",
       "         1.77372353e+14],\n",
       "        [2.12330838e-18, 1.03923436e+24, 1.47574376e+20, 2.85214873e-19,\n",
       "         1.13417968e+20],\n",
       "        [4.32712370e+03, 5.06260109e+15, 1.08791462e-21, 4.09520025e+06,\n",
       "         8.53140112e+08],\n",
       "        [7.30100850e+07, 4.61689670e+05, 1.08491729e-28, 2.60239295e+06,\n",
       "         3.10196619e-05],\n",
       "        [1.51033108e-17, 3.29536606e+32, 2.50752743e-12, 1.05837175e-27,\n",
       "         1.41461342e+35],\n",
       "        [1.00110917e-06, 1.36214676e+24, 5.55170895e-10, 6.06793379e-15,\n",
       "         1.18698631e+20],\n",
       "        [1.17818041e-04, 4.03108896e+38, 1.23801240e-04, 1.00516671e-12,\n",
       "         1.53564586e+37]]))"
      ]
     },
     "execution_count": 24,
     "metadata": {},
     "output_type": "execute_result"
    }
   ],
   "source": [
    "# set c as a constant and I as the identity matix\n",
    "# randomly give c a number\n",
    "c = 0.1\n",
    "iden = np.zeros((10,784,784))\n",
    "\n",
    "for i in range (0,10) :\n",
    "    iden[i,:,:] = np.diag([1] * 784) \n",
    "\n",
    "# smooth the covariance matrix\n",
    "decision(x_validation[:5,], pi, mu, sigma + c * iden)"
   ]
  },
  {
   "cell_type": "code",
   "execution_count": 25,
   "id": "mexican-robertson",
   "metadata": {},
   "outputs": [],
   "source": [
    "c_grid = np.linspace(0.01, 0.3, num=20 )\n",
    "validation_error =[]\n",
    "\n",
    "for c in c_grid:\n",
    "    pred = decision(x_validation, pi, mu, sigma + c * iden)[0]\n",
    "    validation_error.append(1 - np.mean(pred == y_validation))"
   ]
  },
  {
   "cell_type": "code",
   "execution_count": 26,
   "id": "ancient-macedonia",
   "metadata": {},
   "outputs": [
    {
     "name": "stdout",
     "output_type": "stream",
     "text": [
      "The optimal of c is:\n",
      " 0.048799999999999955\n"
     ]
    },
    {
     "data": {
      "image/png": "[encoded data removed]",
      "text/plain": [
       "<Figure size 432x288 with 1 Axes>"
      ]
     },
     "metadata": {
      "needs_background": "light"
     },
     "output_type": "display_data"
    }
   ],
   "source": [
    "# smaller erorr is desired\n",
    "plt.plot(c_grid,validation_error)\n",
    "\n",
    "# find the optimal c value\n",
    "c_optim = c_grid[np.argmin(validation_error)]\n",
    "\n",
    "print('The optimal of c is:\\n', np.min(validation_error))"
   ]
  },
  {
   "cell_type": "markdown",
   "id": "heard-turkish",
   "metadata": {},
   "source": [
    "#### (e) Turn in an iPython notebook that includes:\n",
    "\n",
    "    • All your code.\n",
    "    \n",
    "    • Error rate on the MNIST test set.\n",
    "    \n",
    "    • Out of the misclassified test digits, pick five at random and display them. For each instance, list the posterior probabilities Pr(y|x) of each of the ten classes."
   ]
  },
  {
   "cell_type": "code",
   "execution_count": 27,
   "id": "continuous-actor",
   "metadata": {},
   "outputs": [
    {
     "name": "stdout",
     "output_type": "stream",
     "text": [
      "Error rate on the MNIST test set:\n",
      "4.3799999999999955%\n"
     ]
    }
   ],
   "source": [
    "# calculate the error rate on the MNIST test set.\n",
    "accuracy = np.mean(decision(test_data, pi, mu, sigma + c_optim * iden)[0] == test_labels)\n",
    "error_rate = (1 - accuracy)*100\n",
    "\n",
    "print('Error rate on the MNIST test set:\\n{}%'.format(error_rate))"
   ]
  },
  {
   "cell_type": "code",
   "execution_count": 28,
   "id": "saving-history",
   "metadata": {},
   "outputs": [],
   "source": [
    "pred, prob = decision(test_data,pi, mu, sigma + c_optim * iden)"
   ]
  },
  {
   "cell_type": "code",
   "execution_count": 29,
   "id": "extreme-gathering",
   "metadata": {},
   "outputs": [
    {
     "name": "stdout",
     "output_type": "stream",
     "text": [
      "posterior probabilities:\n",
      " [1.39773549e-28 3.29542606e-31 9.44407064e-07 8.93100210e-11\n",
      " 5.10498694e-32 2.15188108e-35 1.76340732e-59 3.71674998e-20\n",
      " 9.99999056e-01 4.60969151e-25]\n",
      "\n",
      "predicted digit: 8\n",
      "\n",
      "true digit: 2\n"
     ]
    },
    {
     "data": {
      "image/png": "[encoded data removed]",
      "text/plain": [
       "<Figure size 432x288 with 1 Axes>"
      ]
     },
     "metadata": {
      "needs_background": "light"
     },
     "output_type": "display_data"
    },
    {
     "name": "stdout",
     "output_type": "stream",
     "text": [
      "posterior probabilities:\n",
      " [9.90840610e-001 1.96922947e-134 5.59213076e-006 2.73862179e-015\n",
      " 9.26492386e-015 8.29549696e-003 2.31647883e-010 2.36242297e-026\n",
      " 1.17461319e-034 8.58301070e-004]\n",
      "\n",
      "predicted digit: 0\n",
      "\n",
      "true digit: 9\n"
     ]
    },
    {
     "data": {
      "image/png": "[encoded data removed]",
      "text/plain": [
       "<Figure size 432x288 with 1 Axes>"
      ]
     },
     "metadata": {
      "needs_background": "light"
     },
     "output_type": "display_data"
    },
    {
     "name": "stdout",
     "output_type": "stream",
     "text": [
      "posterior probabilities:\n",
      " [1.33288214e-022 4.78235805e-141 1.39248990e-009 9.99999999e-001\n",
      " 1.79715520e-067 4.52804023e-026 5.12737030e-081 1.69816726e-043\n",
      " 1.51046950e-021 3.78681257e-032]\n",
      "\n",
      "predicted digit: 3\n",
      "\n",
      "true digit: 9\n"
     ]
    },
    {
     "data": {
      "image/png": "[encoded data removed]",
      "text/plain": [
       "<Figure size 432x288 with 1 Axes>"
      ]
     },
     "metadata": {
      "needs_background": "light"
     },
     "output_type": "display_data"
    },
    {
     "name": "stdout",
     "output_type": "stream",
     "text": [
      "posterior probabilities:\n",
      " [7.24531355e-001 8.06604028e-122 2.07758767e-013 2.68522993e-001\n",
      " 5.10092467e-055 1.94953938e-007 3.58494474e-014 8.39106303e-081\n",
      " 6.94545720e-003 1.19623255e-040]\n",
      "\n",
      "predicted digit: 0\n",
      "\n",
      "true digit: 8\n"
     ]
    },
    {
     "data": {
      "image/png": "[encoded data removed]",
      "text/plain": [
       "<Figure size 432x288 with 1 Axes>"
      ]
     },
     "metadata": {
      "needs_background": "light"
     },
     "output_type": "display_data"
    },
    {
     "name": "stdout",
     "output_type": "stream",
     "text": [
      "posterior probabilities:\n",
      " [3.60704806e-23 4.73306638e-08 1.62911845e-22 3.03170718e-25\n",
      " 1.07755734e-29 4.39101476e-22 9.99999953e-01 5.30893474e-48\n",
      " 1.17243012e-17 1.22402935e-40]\n",
      "\n",
      "predicted digit: 6\n",
      "\n",
      "true digit: 1\n"
     ]
    },
    {
     "data": {
      "image/png": "[encoded data removed]",
      "text/plain": [
       "<Figure size 432x288 with 1 Axes>"
      ]
     },
     "metadata": {
      "needs_background": "light"
     },
     "output_type": "display_data"
    }
   ],
   "source": [
    "mis = np.where(pred != test_labels)[0]\n",
    "random.seed(14)\n",
    "\n",
    "for i in random.sample(range(0,len(mis)),5):\n",
    "    print('posterior probabilities:\\n', prob[:,mis[i]]/np.sum(prob[:,mis[i]]))\n",
    "    #print(np.where(np.argmax(prob[:,mis[i]]/np.sum(prob[:,mis[i]]))))\n",
    "    print('\\npredicted digit:', np.argmax(prob[:,mis[i]]/np.sum(prob[:,mis[i]])))\n",
    "    print('\\ntrue digit:', test_labels[mis[i]])\n",
    "    displaychar(train_data[mis[i]])"
   ]
  },
  {
   "cell_type": "markdown",
   "id": "infinite-psychology",
   "metadata": {},
   "source": [
    "# Worksheet 10 Problem 2"
   ]
  },
  {
   "cell_type": "markdown",
   "id": "qualified-spanish",
   "metadata": {},
   "source": [
    "For this problem, we’ll be using the animals with attributes data set. Go to \n",
    "\n",
    "    http://attributes.kyb.tuebingen.mpg.de\n",
    "    \n",
    "and, under “Downloads”, choose the “base package” (the very first file in the list). Unzip it and look over the various text files.\n",
    "\n",
    "About the dataset: This is a small dataset that has information on about 50 animals. The animals are listed in classes.txt. For each animal, the information consists of values for 85 features: does the animal have a tail, is it slow, does it have tusks, etc. The details of the features are in the predicates.txt. The full data consists of a 50 x 85 matrix of real values, in predicate-matrix-continuous.txt. There is also a binarized version of this data, in predicate-matrix-binary.txt."
   ]
  },
  {
   "cell_type": "code",
   "execution_count": 30,
   "id": "informative-substitute",
   "metadata": {},
   "outputs": [],
   "source": [
    "def download(filename, source = 'http://attributes.kyb.tuebingen.mpg.de'):\n",
    "    print(\"Downloading %s\" % filename)\n",
    "    urlretrieve(source + filename, filename)\n",
    "    \n",
    "def load_data(filename):\n",
    "    if not os.path.exists(filename):\n",
    "        download(filename)\n",
    "    with bz2.open(filename, 'rb') as f:\n",
    "        data = np.frombuffer(f.read(), np.uint8, offset = 16)\n",
    "    return data / np.float32(256)"
   ]
  },
  {
   "cell_type": "code",
   "execution_count": 31,
   "id": "going-being",
   "metadata": {},
   "outputs": [],
   "source": [
    "base_package_data = load_data('AwA-base.tar.bz2')"
   ]
  },
  {
   "cell_type": "markdown",
   "id": "suburban-coordinator",
   "metadata": {},
   "source": [
    "#### (a) Load the real-valued array, and also the animal names, into Python. Run k-means on the data (from sklearn.cluster) and ask for k = 10 clusters. For each cluster, list the animals in it. Does the clustering make sense?"
   ]
  },
  {
   "cell_type": "code",
   "execution_count": 32,
   "id": "active-garbage",
   "metadata": {},
   "outputs": [
    {
     "name": "stdout",
     "output_type": "stream",
     "text": [
      "Shape of the classes.txt:\n",
      " (50,) \n",
      "\n",
      "Data of the classes.txt:\n",
      " ['antelope' 'grizzly+bear' 'killer+whale' 'beaver' 'dalmatian'\n",
      " 'persian+cat' 'horse' 'german+shepherd' 'blue+whale' 'siamese+cat'\n",
      " 'skunk' 'mole' 'tiger' 'hippopotamus' 'leopard' 'moose' 'spider+monkey'\n",
      " 'humpback+whale' 'elephant' 'gorilla' 'ox' 'fox' 'sheep' 'seal'\n",
      " 'chimpanzee' 'hamster' 'squirrel' 'rhinoceros' 'rabbit' 'bat' 'giraffe'\n",
      " 'wolf' 'chihuahua' 'rat' 'weasel' 'otter' 'buffalo' 'zebra' 'giant+panda'\n",
      " 'deer' 'bobcat' 'pig' 'lion' 'mouse' 'polar+bear' 'collie' 'walrus'\n",
      " 'raccoon' 'cow' 'dolphin']\n"
     ]
    }
   ],
   "source": [
    "# classes with animal names.\n",
    "classes_with_animal_names = pd.read_fwf(\"Animals_with_Attributes/classes.txt\", header = None)[1].values\n",
    "print('Shape of the classes.txt:\\n', classes_with_animal_names.shape, '\\n')\n",
    "print('Data of the classes.txt:\\n', classes_with_animal_names)"
   ]
  },
  {
   "cell_type": "code",
   "execution_count": 33,
   "id": "expressed-potato",
   "metadata": {},
   "outputs": [
    {
     "name": "stdout",
     "output_type": "stream",
     "text": [
      "Shape of the predicates.txt:\n",
      " (85,) \n",
      "\n",
      "Data of the predicates.txt:\n",
      " ['black' 'white' 'blue' 'brown' 'gray' 'orange' 'red' 'yellow' 'patches'\n",
      " 'spots' 'stripes' 'furry' 'hairless' 'toughskin' 'big' 'small' 'bulbous'\n",
      " 'lean' 'flippers' 'hands' 'hooves' 'pads' 'paws' 'longleg' 'longneck'\n",
      " 'tail' 'chewteeth' 'meatteeth' 'buckteeth' 'strainteeth' 'horns' 'claws'\n",
      " 'tusks' 'smelly' 'flys' 'hops' 'swims' 'tunnels' 'walks' 'fast' 'slow'\n",
      " 'strong' 'weak' 'muscle' 'bipedal' 'quadrapedal' 'active' 'inactive'\n",
      " 'nocturnal' 'hibernate' 'agility' 'fish' 'meat' 'plankton' 'vegetation'\n",
      " 'insects' 'forager' 'grazer' 'hunter' 'scavenger' 'skimmer' 'stalker'\n",
      " 'newworld' 'oldworld' 'arctic' 'coastal' 'desert' 'bush' 'plains'\n",
      " 'forest' 'fields' 'jungle' 'mountains' 'ocean' 'ground' 'water' 'tree'\n",
      " 'cave' 'fierce' 'timid' 'smart' 'group' 'solitary' 'nestspot' 'domestic']\n"
     ]
    }
   ],
   "source": [
    "# predicates with feature names.\n",
    "predicates_with_feature_names = pd.read_fwf(\"Animals_with_Attributes/predicates.txt\", header = None)[1].values\n",
    "print('Shape of the predicates.txt:\\n', predicates_with_feature_names.shape, '\\n')\n",
    "print('Data of the predicates.txt:\\n', predicates_with_feature_names)"
   ]
  },
  {
   "cell_type": "code",
   "execution_count": 34,
   "id": "injured-single",
   "metadata": {},
   "outputs": [
    {
     "name": "stdout",
     "output_type": "stream",
     "text": [
      "Shape of the predicate-matrix-continuous.txt:\n",
      " (50, 85) \n",
      "\n",
      "Data of the predicate-matrix-continuous.txt:\n",
      " [[-1.   -1.   -1.   ...  2.35  9.7   8.38]\n",
      " [39.25  1.39  0.   ... 58.64 20.14 11.39]\n",
      " [83.4  64.79  0.   ... 15.77 13.41 15.42]\n",
      " ...\n",
      " [63.57 43.1   0.   ... 35.95 28.26  5.  ]\n",
      " [55.31 55.46  0.   ...  5.04 18.89 72.99]\n",
      " [10.22 21.53 27.73 ...  3.96 14.05 37.98]]\n"
     ]
    }
   ],
   "source": [
    "# matrix of real values.\n",
    "predicate_matrix = pd.read_fwf(\"Animals_with_Attributes/predicate-matrix-continuous.txt\", header = None).values\n",
    "print('Shape of the predicate-matrix-continuous.txt:\\n', predicate_matrix.shape, '\\n')\n",
    "print('Data of the predicate-matrix-continuous.txt:\\n', predicate_matrix)"
   ]
  },
  {
   "cell_type": "code",
   "execution_count": 35,
   "id": "medium-garlic",
   "metadata": {},
   "outputs": [
    {
     "name": "stdout",
     "output_type": "stream",
     "text": [
      "Shape of classes_features:\n",
      " (50, 85) \n",
      "\n",
      "Data of classes_features:\n",
      "                  black  white   blue  brown   gray  orange    red  yellow  \\\n",
      "antelope         -1.00  -1.00  -1.00  -1.00  12.34    0.00   0.00    0.00   \n",
      "grizzly+bear     39.25   1.39   0.00  74.14   3.75    0.00   0.00    0.00   \n",
      "killer+whale     83.40  64.79   0.00   0.00   1.25    0.00   0.00    0.00   \n",
      "beaver           19.38   0.00   0.00  87.81   7.50    0.00   0.00    0.00   \n",
      "dalmatian        69.58  73.33   0.00   6.39   0.00    0.00   0.00    0.00   \n",
      "persian+cat      19.38  50.09  29.44   8.98  38.19    0.00   0.00    0.00   \n",
      "horse            44.90  42.91   4.44  69.41  35.94    0.00   0.00    0.00   \n",
      "german+shepherd  43.54  15.88   5.00  54.16  26.82    3.12   2.50    0.38   \n",
      "blue+whale       12.92   4.38  67.08   7.50  25.60    0.00   0.00    0.00   \n",
      "siamese+cat      56.21  23.51  12.22  32.69  38.13    0.00   0.00    0.00   \n",
      "skunk            87.99  85.35   0.00   0.00   0.00    0.00   0.00    0.00   \n",
      "mole             39.05   0.00   0.00  51.33  34.91    0.00   0.00    0.00   \n",
      "tiger            42.47  30.12   3.75  20.00   2.50   72.91   5.00   17.18   \n",
      "hippopotamus      4.77   0.00   0.00  18.61  81.49    0.00   0.00    0.00   \n",
      "leopard          40.88  19.44   0.00  31.33   2.50   20.42   2.50   24.58   \n",
      "moose            10.24   6.25   0.00  91.20  11.81    0.00   3.57    0.00   \n",
      "spider+monkey    36.04   6.77   0.00  55.21  34.48    0.00   0.00    0.00   \n",
      "humpback+whale   24.01   5.92  31.10   8.75  59.43    0.00   0.00    0.00   \n",
      "elephant          2.50   3.75   0.00  15.23  83.97    0.00   0.00    0.00   \n",
      "gorilla          63.37   1.79   7.14  45.51  17.01    8.48   3.57    0.00   \n",
      "ox               43.99  27.68  12.21  50.80  36.31    5.91   3.75    0.00   \n",
      "fox               0.00   1.56   0.00  51.25  11.17   48.92  40.89    3.75   \n",
      "sheep            32.36  89.09   0.00   8.41  19.38    0.00   0.00    0.00   \n",
      "seal             81.96  29.31   1.56  35.00  44.50    0.00   0.00    0.00   \n",
      "chimpanzee       47.51   9.93   0.00  69.10  13.05    7.14   0.00    2.50   \n",
      "hamster          41.38  39.71   0.00  62.76  37.38   17.50   2.50   10.00   \n",
      "squirrel         10.56  13.19   0.00  64.51  72.67    0.00   3.12    0.00   \n",
      "rhinoceros        9.75   7.50   7.50  19.90  63.96    0.00   0.00    0.00   \n",
      "rabbit           26.49  64.32   0.00  47.12  39.71    0.00   0.00    0.00   \n",
      "bat              91.55   1.39   0.00  54.76  27.64    0.00   0.00    0.00   \n",
      "giraffe           6.11  11.87   0.00  32.21   0.00   24.70   1.39   48.43   \n",
      "wolf             43.74  23.96   0.00  58.07  53.94    0.00   0.00    0.00   \n",
      "chihuahua        32.63  10.00   0.00  64.79  22.63    2.50   0.12    0.25   \n",
      "rat              50.13  33.78   0.00  46.23  40.42    0.00   0.00    0.00   \n",
      "weasel           30.57  14.11   0.00  62.48  30.34    0.00   0.00    2.50   \n",
      "otter            46.81   0.00   0.00  44.86  16.25    0.00   0.00    0.00   \n",
      "buffalo          45.37   0.00   0.00  61.05   9.90    0.00   0.00    0.00   \n",
      "zebra            85.04  85.04   0.00   0.00   0.00    0.00   0.00    0.00   \n",
      "giant+panda      76.85  72.33   0.00   5.00   4.38    0.00   0.00    0.00   \n",
      "deer              0.00  20.34   0.00  75.85   5.92    0.00   0.00    0.00   \n",
      "bobcat           16.13   9.44   0.00  38.39   2.50   37.08   5.00   22.83   \n",
      "pig              21.52  25.04   0.00  35.13  26.62    0.00   6.25    3.75   \n",
      "lion              1.88   1.25   0.00  43.91   0.00   13.12   0.00   34.38   \n",
      "mouse            18.37  55.35   0.00  32.53  49.72    0.00   0.00    0.00   \n",
      "polar+bear       10.00  95.62   2.50   3.12  12.50    0.00   0.00    2.50   \n",
      "collie           10.13  41.37   0.00  47.27   3.75    8.00   0.50    0.00   \n",
      "walrus           18.84   4.82   0.00  67.59  44.27    0.00   0.00    0.00   \n",
      "raccoon          63.57  43.10   0.00  17.29  54.51    0.00   0.00    0.00   \n",
      "cow              55.31  55.46   0.00  58.48  15.50    1.49   0.15    0.00   \n",
      "dolphin          10.22  21.53  27.73   0.33  60.82    0.00   0.00    0.16   \n",
      "\n",
      "                 patches   spots  ...  water   tree   cave  fierce  timid  \\\n",
      "antelope           16.11    9.19  ...   0.00   0.00   1.23   10.49  39.24   \n",
      "grizzly+bear        1.25    0.00  ...   7.64   9.79  53.14   61.80  12.50   \n",
      "killer+whale       68.49   32.69  ...  79.49   0.00   0.00   38.27   9.77   \n",
      "beaver              0.00    7.50  ...  65.62   0.00   0.00    3.75  31.88   \n",
      "dalmatian          37.08  100.00  ...   1.25   6.25   0.00    9.38  31.67   \n",
      "persian+cat        17.93    6.25  ...   1.25   2.64   0.00   13.98  43.69   \n",
      "horse              22.29   15.80  ...   2.22   0.00   0.00   15.51  35.39   \n",
      "german+shepherd    48.78   11.59  ...   3.75   0.00   2.50   57.44  10.00   \n",
      "blue+whale         15.31   23.75  ...  76.61   0.00   0.00    7.50  44.58   \n",
      "siamese+cat        35.83    6.94  ...   2.22  10.00   1.11   35.98  28.82   \n",
      "skunk               6.46    1.25  ...   4.03   3.26  10.00   17.29  46.11   \n",
      "mole                5.62    0.00  ...   0.00  10.00   9.72   16.88  29.47   \n",
      "tiger               8.26    6.08  ...   4.06   6.39  20.14   83.81   3.75   \n",
      "hippopotamus        0.00    0.00  ...  46.78   0.00   0.00   19.17  29.58   \n",
      "leopard            26.11   74.97  ...   2.50  25.37  10.56   70.30   0.00   \n",
      "moose              12.50   12.50  ...   1.25   0.00   2.50    8.75  40.42   \n",
      "spider+monkey       0.00    0.00  ...   0.00  76.01   1.25   17.71  23.68   \n",
      "humpback+whale     18.72    6.88  ...  89.95   0.00   0.00    3.75  60.72   \n",
      "elephant            0.00    1.25  ...   1.25   0.00   0.00   20.63  39.36   \n",
      "gorilla             0.00    0.00  ...   1.25  50.29  14.12   46.23  12.13   \n",
      "ox                 19.03   15.62  ...   2.50   0.00   1.25   20.16  33.65   \n",
      "fox                 1.56    0.00  ...   0.00   1.25   4.06   44.90   5.00   \n",
      "sheep               0.00    0.00  ...   0.00   0.00   0.00    0.00  54.38   \n",
      "seal               17.19   23.12  ...  78.92   0.00   5.00   13.75  35.31   \n",
      "chimpanzee          0.62    0.00  ...   1.25  81.36  10.00   23.10  29.64   \n",
      "hamster            52.77    8.50  ...   0.00   5.00   2.50    8.75  40.69   \n",
      "squirrel            9.79    2.50  ...   1.25  70.99   1.25    7.92  38.16   \n",
      "rhinoceros          2.95    1.39  ...  13.54   0.00   0.00   42.50  13.33   \n",
      "rabbit             26.04    9.26  ...   0.00   0.00   7.27    4.17  61.21   \n",
      "bat                 1.25    1.25  ...   1.39  56.97  80.62   32.57   8.98   \n",
      "giraffe            47.52   77.08  ...   0.00   9.88   0.00    1.11  45.36   \n",
      "wolf               19.92    0.00  ...   0.00   0.00  30.49   75.75   0.00   \n",
      "chihuahua          17.10   11.79  ...   1.25   9.72   0.00   33.03  36.73   \n",
      "rat                10.62    1.25  ...   0.00   1.25  20.47   59.44  11.81   \n",
      "weasel             16.61    8.75  ...   5.42  12.50  10.00   59.37   3.75   \n",
      "otter               0.00    0.00  ...  78.75   0.00   0.00    6.25  33.47   \n",
      "buffalo             2.08    0.00  ...   9.38   0.00   0.00   26.99  19.88   \n",
      "zebra               0.00    0.00  ...   0.00   0.00   0.00    0.00  53.25   \n",
      "giant+panda        84.95   24.17  ...   1.25  49.12  14.40    6.25  65.84   \n",
      "deer               30.34   48.08  ...   0.00   0.00   0.00    0.00  67.49   \n",
      "bobcat              7.50   33.55  ...   0.00  24.90  26.20   71.95   0.00   \n",
      "pig                41.47   21.23  ...   3.87   0.00   3.75   25.48  27.85   \n",
      "lion                0.00    0.00  ...   0.00   2.50  13.75   70.47   4.38   \n",
      "mouse              12.19    6.25  ...   0.00   0.00   0.00    1.25  50.00   \n",
      "polar+bear          0.00    0.00  ...  45.90   0.00  17.50   70.35   3.75   \n",
      "collie             37.00    9.09  ...   0.00   0.00   0.00    5.25  43.09   \n",
      "walrus             11.61   13.12  ...  62.30   0.00   0.00   20.00  29.43   \n",
      "raccoon            29.58   22.87  ...   2.08  33.41   7.27   34.46   2.27   \n",
      "cow                26.67   31.35  ...   0.55   0.00   0.32    3.34  47.87   \n",
      "dolphin             3.30    0.80  ...  71.40   0.00   0.00   10.73  21.06   \n",
      "\n",
      "                 smart  group  solitary  nestspot  domestic  \n",
      "antelope         17.57  50.59      2.35      9.70      8.38  \n",
      "grizzly+bear     24.00   3.12     58.64     20.14     11.39  \n",
      "killer+whale     52.03  24.94     15.77     13.41     15.42  \n",
      "beaver           41.88  23.44     31.88     33.44     13.12  \n",
      "dalmatian        53.26  24.44     29.38     11.25     72.71  \n",
      "persian+cat      38.62   6.25     36.60      9.17     72.88  \n",
      "horse            37.28  36.47     16.78     14.62     59.33  \n",
      "german+shepherd  57.53  12.50     35.11     16.53     68.55  \n",
      "blue+whale       39.06  33.12     25.99     10.83      5.00  \n",
      "siamese+cat      52.90   3.33     47.54     17.22     83.55  \n",
      "skunk            12.50   2.50     47.85     18.19      8.89  \n",
      "mole             16.67   0.00     55.31     29.79     13.75  \n",
      "tiger            36.59  23.96     39.36     24.34      5.64  \n",
      "hippopotamus      8.75  20.60     25.14      2.31      0.00  \n",
      "leopard          37.16  11.25     33.84     22.08      6.25  \n",
      "moose            19.11  30.34     31.94     10.14      5.14  \n",
      "spider+monkey    55.00  39.06      9.38     31.67     12.78  \n",
      "humpback+whale   60.31  51.03     19.06     20.34      0.00  \n",
      "elephant         22.81  49.87      6.25     12.29      6.88  \n",
      "gorilla          56.19  54.50      7.50     44.17     18.93  \n",
      "ox               14.68  16.79     32.39     13.12     53.33  \n",
      "fox              79.26  18.75     48.18     27.88      4.38  \n",
      "sheep            10.62  73.69      0.00      7.50     30.68  \n",
      "seal             44.49  49.84      6.25     18.18     47.03  \n",
      "chimpanzee       84.36  74.51      8.75     41.93     36.62  \n",
      "hamster          18.37  16.98     35.00     36.60     71.44  \n",
      "squirrel         18.48   9.17     22.58     21.56     14.76  \n",
      "rhinoceros       10.59  22.85     25.17      3.75      2.50  \n",
      "rabbit           11.47  38.16     18.89     38.89     60.52  \n",
      "bat              32.30  62.25     19.97     34.91      5.56  \n",
      "giraffe          16.95  40.89      9.57      8.69      3.33  \n",
      "wolf             61.48  46.81     41.37     18.40      5.00  \n",
      "chihuahua        29.84   1.25     44.91      9.80     73.55  \n",
      "rat              24.99  18.94     40.87     23.12     16.69  \n",
      "weasel           36.56  13.06     26.26     10.14      3.75  \n",
      "otter            27.22  17.92     30.56     23.19      7.78  \n",
      "buffalo          10.00  52.99      8.80      9.38      2.31  \n",
      "zebra            22.63  80.60      1.25     19.09      9.94  \n",
      "giant+panda      37.30  28.10     55.38     38.19     29.58  \n",
      "deer             40.05  55.46      6.51     31.55     10.27  \n",
      "bobcat           42.89  13.47     59.47     20.28      3.75  \n",
      "pig              23.04  28.07      4.19     17.88     48.95  \n",
      "lion             25.70  56.17     11.88     43.12      3.75  \n",
      "mouse            12.42  23.96      6.88     23.26     27.64  \n",
      "polar+bear       16.25  13.75     48.75     19.38      5.00  \n",
      "collie           42.17   0.62     45.99     18.57     79.11  \n",
      "walrus           23.96  60.41     11.19     33.77     18.75  \n",
      "raccoon          48.68  13.01     35.95     28.26      5.00  \n",
      "cow              13.97  51.57      5.04     18.89     72.99  \n",
      "dolphin          60.38  49.62      3.96     14.05     37.98  \n",
      "\n",
      "[50 rows x 85 columns]\n"
     ]
    }
   ],
   "source": [
    "# add column names (feature names) for the predicate matrix of the real value.\n",
    "classes_features = pd.DataFrame(data = predicate_matrix, columns = predicates_with_feature_names)\n",
    "\n",
    "# add row index for predicate matrix of the real value.\n",
    "classes_features.index = classes_with_animal_names\n",
    "print('Shape of classes_features:\\n', classes_features.shape, '\\n')\n",
    "print('Data of classes_features:\\n', classes_features)"
   ]
  },
  {
   "cell_type": "code",
   "execution_count": 36,
   "id": "seven-valuable",
   "metadata": {},
   "outputs": [
    {
     "data": {
      "text/plain": [
       "KMeans(n_clusters=10)"
      ]
     },
     "execution_count": 36,
     "metadata": {},
     "output_type": "execute_result"
    }
   ],
   "source": [
    "# run k-means on the data, with k = 10.\n",
    "kmeans = KMeans(n_clusters = 10, init = 'k-means++',  n_init = 10)\n",
    "kmeans.fit(predicate_matrix, classes_with_animal_names)"
   ]
  },
  {
   "cell_type": "code",
   "execution_count": 37,
   "id": "mighty-questionnaire",
   "metadata": {},
   "outputs": [
    {
     "name": "stdout",
     "output_type": "stream",
     "text": [
      "labels for animals:\n",
      " [3 7 2 9 5 5 3 8 2 5 4 4 8 1 8 3 6 2 1 6 1 0 3 2 6 4 4 1 4 0 3 8 5 0 0 9 3\n",
      " 3 5 3 8 1 8 4 7 5 2 0 3 2]\n"
     ]
    }
   ],
   "source": [
    "# label all animals\n",
    "print('labels for animals:\\n',kmeans.labels_)"
   ]
  },
  {
   "cell_type": "code",
   "execution_count": 38,
   "id": "arranged-mississippi",
   "metadata": {},
   "outputs": [
    {
     "name": "stdout",
     "output_type": "stream",
     "text": [
      "label = 0 \n",
      "\n",
      "animals: ['fox', 'bat', 'rat', 'weasel', 'raccoon'] \n",
      "\n",
      "label = 1 \n",
      "\n",
      "animals: ['hippopotamus', 'elephant', 'ox', 'rhinoceros', 'pig'] \n",
      "\n",
      "label = 2 \n",
      "\n",
      "animals: ['killer+whale', 'blue+whale', 'humpback+whale', 'seal', 'walrus', 'dolphin'] \n",
      "\n",
      "label = 3 \n",
      "\n",
      "animals: ['antelope', 'horse', 'moose', 'sheep', 'giraffe', 'buffalo', 'zebra', 'deer', 'cow'] \n",
      "\n",
      "label = 4 \n",
      "\n",
      "animals: ['skunk', 'mole', 'hamster', 'squirrel', 'rabbit', 'mouse'] \n",
      "\n",
      "label = 5 \n",
      "\n",
      "animals: ['dalmatian', 'persian+cat', 'siamese+cat', 'chihuahua', 'giant+panda', 'collie'] \n",
      "\n",
      "label = 6 \n",
      "\n",
      "animals: ['spider+monkey', 'gorilla', 'chimpanzee'] \n",
      "\n",
      "label = 7 \n",
      "\n",
      "animals: ['grizzly+bear', 'polar+bear'] \n",
      "\n",
      "label = 8 \n",
      "\n",
      "animals: ['german+shepherd', 'tiger', 'leopard', 'wolf', 'bobcat', 'lion'] \n",
      "\n",
      "label = 9 \n",
      "\n",
      "animals: ['beaver', 'otter'] \n",
      "\n"
     ]
    }
   ],
   "source": [
    "# cluster animals to their labels\n",
    "\n",
    "clustering = {i:[] for i in range(0,10)}\n",
    "\n",
    "for i,j in enumerate(classes_with_animal_names):\n",
    "    clustering[kmeans.labels_[i]].append(j)\n",
    "\n",
    "for i in range(0,10):\n",
    "    print('label =',i,'\\n')\n",
    "    print('animals:',clustering[i],'\\n')"
   ]
  },
  {
   "cell_type": "markdown",
   "id": "alone-religious",
   "metadata": {},
   "source": [
    "### Conclusion for (a):\n",
    "\n",
    "#### Does the clustering make sense?\n",
    "#### --- Yes, it makes some sense.\n",
    "#### --- From the clustering above, we can see that pets in label 7 are grouped close together as well as other labels. \n",
    "#### --- However, it is not perfect. we need to figure out optimal k or find other algorithms to cluster these animals better."
   ]
  },
  {
   "cell_type": "markdown",
   "id": "coated-observer",
   "metadata": {},
   "source": [
    "#### (b) Now hierarchically cluster this data, using scipy.cluster.hierarchy.linkage. Choose Ward’s method, and plot the resulting tree using the dendrogram method, setting the orientation parameter to ‘right’ and labeling each leaf with the corresponding animal name. You will run into a problem: the plot is too cramped because the default figure size is so small. To make it larger, preface your code with the following:\n",
    "           from pylab import rcParams\n",
    "           rcParams[’figure.figsize’] = 5, 10\n",
    "#### (or try a different size if this doesn’t seem quite right). Does the hierarchical clustering seem sensible to you?"
   ]
  },
  {
   "cell_type": "code",
   "execution_count": 40,
   "id": "optical-collection",
   "metadata": {},
   "outputs": [
    {
     "data": {
      "image/png": "[encoded data removed]",
      "text/plain": [
       "<Figure size 2880x2880 with 1 Axes>"
      ]
     },
     "metadata": {
      "needs_background": "light"
     },
     "output_type": "display_data"
    }
   ],
   "source": [
    "# use scipy.cluster.hierarchy.linkage to hierarchically cluster this data.\n",
    "hierarchically_cluster_link = linkage(predicate_matrix, method = 'ward');\n",
    "\n",
    "# use dendrogram method to plot the resulting tree.\n",
    "dendrogram(hierarchically_cluster_link, orientation = \"right\", labels = classes_with_animal_names)\n",
    "\n",
    "# resize the figure\n",
    "rcParams['figure.figsize'] = [40,40]"
   ]
  },
  {
   "cell_type": "markdown",
   "id": "fleet-degree",
   "metadata": {},
   "source": [
    "### Conclusion for (b):\n",
    "\n",
    "#### Does the hierarchical clustering seem sensible to you?\n",
    "#### --- Yes, it seems sensible to me.\n",
    "#### --- For choosing the linkage, Ward’s method is the sensible default. It groups based on reducing the sum of squared distances of each observation from the average observation in a cluster."
   ]
  },
  {
   "cell_type": "markdown",
   "id": "functional-inclusion",
   "metadata": {},
   "source": [
    "#### (c) Turn in an iPython notebook with a transcript of all this experimentation."
   ]
  },
  {
   "cell_type": "markdown",
   "id": "sixth-finder",
   "metadata": {},
   "source": [
    "#### See above for all this experimentation"
   ]
  }
 ],
 "metadata": {
  "kernelspec": {
   "display_name": "Python 3",
   "language": "python",
   "name": "python3"
  },
  "language_info": {
   "codemirror_mode": {
    "name": "ipython",
    "version": 3
   },
   "file_extension": ".py",
   "mimetype": "text/x-python",
   "name": "python",
   "nbconvert_exporter": "python",
   "pygments_lexer": "ipython3",
   "version": "3.8.5"
  },
  "nbTranslate": {
   "displayLangs": [
    "*"
   ],
   "hotkey": "alt-t",
   "langInMainMenu": true,
   "sourceLang": "en",
   "targetLang": "fr",
   "useGoogleTranslate": true
  },
  "varInspector": {
   "cols": {
    "lenName": 16,
    "lenType": 16,
    "lenVar": 40
   },
   "kernels_config": {
    "python": {
     "delete_cmd_postfix": "",
     "delete_cmd_prefix": "del ",
     "library": "var_list.py",
     "varRefreshCmd": "print(var_dic_list())"
    },
    "r": {
     "delete_cmd_postfix": ") ",
     "delete_cmd_prefix": "rm(",
     "library": "var_list.r",
     "varRefreshCmd": "cat(var_dic_list()) "
    }
   },
   "types_to_exclude": [
    "module",
    "function",
    "builtin_function_or_method",
    "instance",
    "_Feature"
   ],
   "window_display": false
  }
 },
 "nbformat": 4,
 "nbformat_minor": 5
}
